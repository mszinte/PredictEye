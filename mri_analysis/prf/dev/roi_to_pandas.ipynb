{
 "metadata": {
  "orig_nbformat": 2,
  "kernelspec": {
   "name": "python3",
   "display_name": "Python 3",
   "language": "python"
  }
 },
 "nbformat": 4,
 "nbformat_minor": 2,
 "cells": [
  {
   "cell_type": "code",
   "execution_count": 3,
   "metadata": {},
   "outputs": [
    {
     "output_type": "stream",
     "name": "stdout",
     "text": [
      "creating V1 fmriprep_dct T1w pandas file\n",
      "creating V2 fmriprep_dct T1w pandas file\n",
      "creating V3 fmriprep_dct T1w pandas file\n"
     ]
    },
    {
     "output_type": "error",
     "ename": "KeyboardInterrupt",
     "evalue": "",
     "traceback": [
      "\u001b[0;31m---------------------------------------------------------------------------\u001b[0m",
      "\u001b[0;31mKeyboardInterrupt\u001b[0m                         Traceback (most recent call last)",
      "\u001b[0;32m~/anaconda3/envs/idp/lib/python3.6/site-packages/pandas/io/pickle.py\u001b[0m in \u001b[0;36mto_pickle\u001b[0;34m(obj, filepath_or_buffer, compression, protocol)\u001b[0m\n\u001b[1;32m     86\u001b[0m     \u001b[0;32mtry\u001b[0m\u001b[0;34m:\u001b[0m\u001b[0;34m\u001b[0m\u001b[0;34m\u001b[0m\u001b[0m\n\u001b[0;32m---> 87\u001b[0;31m         \u001b[0mf\u001b[0m\u001b[0;34m.\u001b[0m\u001b[0mwrite\u001b[0m\u001b[0;34m(\u001b[0m\u001b[0mpickle\u001b[0m\u001b[0;34m.\u001b[0m\u001b[0mdumps\u001b[0m\u001b[0;34m(\u001b[0m\u001b[0mobj\u001b[0m\u001b[0;34m,\u001b[0m \u001b[0mprotocol\u001b[0m\u001b[0;34m=\u001b[0m\u001b[0mprotocol\u001b[0m\u001b[0;34m)\u001b[0m\u001b[0;34m)\u001b[0m\u001b[0;34m\u001b[0m\u001b[0;34m\u001b[0m\u001b[0m\n\u001b[0m\u001b[1;32m     88\u001b[0m     \u001b[0;32mfinally\u001b[0m\u001b[0;34m:\u001b[0m\u001b[0;34m\u001b[0m\u001b[0;34m\u001b[0m\u001b[0m\n",
      "\u001b[0;32m~/anaconda3/envs/idp/lib/python3.6/gzip.py\u001b[0m in \u001b[0;36mwrite\u001b[0;34m(self, data)\u001b[0m\n\u001b[1;32m    263\u001b[0m         \u001b[0;32mif\u001b[0m \u001b[0mlength\u001b[0m \u001b[0;34m>\u001b[0m \u001b[0;36m0\u001b[0m\u001b[0;34m:\u001b[0m\u001b[0;34m\u001b[0m\u001b[0;34m\u001b[0m\u001b[0m\n\u001b[0;32m--> 264\u001b[0;31m             \u001b[0mself\u001b[0m\u001b[0;34m.\u001b[0m\u001b[0mfileobj\u001b[0m\u001b[0;34m.\u001b[0m\u001b[0mwrite\u001b[0m\u001b[0;34m(\u001b[0m\u001b[0mself\u001b[0m\u001b[0;34m.\u001b[0m\u001b[0mcompress\u001b[0m\u001b[0;34m.\u001b[0m\u001b[0mcompress\u001b[0m\u001b[0;34m(\u001b[0m\u001b[0mdata\u001b[0m\u001b[0;34m)\u001b[0m\u001b[0;34m)\u001b[0m\u001b[0;34m\u001b[0m\u001b[0;34m\u001b[0m\u001b[0m\n\u001b[0m\u001b[1;32m    265\u001b[0m             \u001b[0mself\u001b[0m\u001b[0;34m.\u001b[0m\u001b[0msize\u001b[0m \u001b[0;34m+=\u001b[0m \u001b[0mlength\u001b[0m\u001b[0;34m\u001b[0m\u001b[0;34m\u001b[0m\u001b[0m\n",
      "\u001b[0;31mKeyboardInterrupt\u001b[0m: ",
      "\nDuring handling of the above exception, another exception occurred:\n",
      "\u001b[0;31mKeyboardInterrupt\u001b[0m                         Traceback (most recent call last)",
      "\u001b[0;32m<ipython-input-3-569e88374867>\u001b[0m in \u001b[0;36m<module>\u001b[0;34m\u001b[0m\n\u001b[1;32m    109\u001b[0m     \u001b[0mdf_name\u001b[0m \u001b[0;34m=\u001b[0m \u001b[0;34m'{}/{}_{}_{}.gz'\u001b[0m\u001b[0;34m.\u001b[0m\u001b[0mformat\u001b[0m\u001b[0;34m(\u001b[0m\u001b[0mpandas_dir\u001b[0m\u001b[0;34m,\u001b[0m \u001b[0mroi\u001b[0m\u001b[0;34m,\u001b[0m \u001b[0mpreproc\u001b[0m\u001b[0;34m,\u001b[0m \u001b[0mregist_type\u001b[0m\u001b[0;34m)\u001b[0m\u001b[0;34m\u001b[0m\u001b[0;34m\u001b[0m\u001b[0m\n\u001b[1;32m    110\u001b[0m \u001b[0;34m\u001b[0m\u001b[0m\n\u001b[0;32m--> 111\u001b[0;31m     \u001b[0mdf_roi\u001b[0m\u001b[0;34m.\u001b[0m\u001b[0mto_pickle\u001b[0m\u001b[0;34m(\u001b[0m\u001b[0mdf_name\u001b[0m\u001b[0;34m,\u001b[0m\u001b[0mcompression\u001b[0m\u001b[0;34m=\u001b[0m\u001b[0;34m'gzip'\u001b[0m\u001b[0;34m)\u001b[0m\u001b[0;34m\u001b[0m\u001b[0;34m\u001b[0m\u001b[0m\n\u001b[0m",
      "\u001b[0;32m~/anaconda3/envs/idp/lib/python3.6/site-packages/pandas/core/generic.py\u001b[0m in \u001b[0;36mto_pickle\u001b[0;34m(self, path, compression, protocol)\u001b[0m\n\u001b[1;32m   2671\u001b[0m         \u001b[0;32mfrom\u001b[0m \u001b[0mpandas\u001b[0m\u001b[0;34m.\u001b[0m\u001b[0mio\u001b[0m\u001b[0;34m.\u001b[0m\u001b[0mpickle\u001b[0m \u001b[0;32mimport\u001b[0m \u001b[0mto_pickle\u001b[0m\u001b[0;34m\u001b[0m\u001b[0;34m\u001b[0m\u001b[0m\n\u001b[1;32m   2672\u001b[0m \u001b[0;34m\u001b[0m\u001b[0m\n\u001b[0;32m-> 2673\u001b[0;31m         \u001b[0mto_pickle\u001b[0m\u001b[0;34m(\u001b[0m\u001b[0mself\u001b[0m\u001b[0;34m,\u001b[0m \u001b[0mpath\u001b[0m\u001b[0;34m,\u001b[0m \u001b[0mcompression\u001b[0m\u001b[0;34m=\u001b[0m\u001b[0mcompression\u001b[0m\u001b[0;34m,\u001b[0m \u001b[0mprotocol\u001b[0m\u001b[0;34m=\u001b[0m\u001b[0mprotocol\u001b[0m\u001b[0;34m)\u001b[0m\u001b[0;34m\u001b[0m\u001b[0;34m\u001b[0m\u001b[0m\n\u001b[0m\u001b[1;32m   2674\u001b[0m \u001b[0;34m\u001b[0m\u001b[0m\n\u001b[1;32m   2675\u001b[0m     def to_clipboard(\n",
      "\u001b[0;32m~/anaconda3/envs/idp/lib/python3.6/site-packages/pandas/io/pickle.py\u001b[0m in \u001b[0;36mto_pickle\u001b[0;34m(obj, filepath_or_buffer, compression, protocol)\u001b[0m\n\u001b[1;32m     87\u001b[0m         \u001b[0mf\u001b[0m\u001b[0;34m.\u001b[0m\u001b[0mwrite\u001b[0m\u001b[0;34m(\u001b[0m\u001b[0mpickle\u001b[0m\u001b[0;34m.\u001b[0m\u001b[0mdumps\u001b[0m\u001b[0;34m(\u001b[0m\u001b[0mobj\u001b[0m\u001b[0;34m,\u001b[0m \u001b[0mprotocol\u001b[0m\u001b[0;34m=\u001b[0m\u001b[0mprotocol\u001b[0m\u001b[0;34m)\u001b[0m\u001b[0;34m)\u001b[0m\u001b[0;34m\u001b[0m\u001b[0;34m\u001b[0m\u001b[0m\n\u001b[1;32m     88\u001b[0m     \u001b[0;32mfinally\u001b[0m\u001b[0;34m:\u001b[0m\u001b[0;34m\u001b[0m\u001b[0;34m\u001b[0m\u001b[0m\n\u001b[0;32m---> 89\u001b[0;31m         \u001b[0mf\u001b[0m\u001b[0;34m.\u001b[0m\u001b[0mclose\u001b[0m\u001b[0;34m(\u001b[0m\u001b[0;34m)\u001b[0m\u001b[0;34m\u001b[0m\u001b[0;34m\u001b[0m\u001b[0m\n\u001b[0m\u001b[1;32m     90\u001b[0m         \u001b[0;32mfor\u001b[0m \u001b[0m_f\u001b[0m \u001b[0;32min\u001b[0m \u001b[0mfh\u001b[0m\u001b[0;34m:\u001b[0m\u001b[0;34m\u001b[0m\u001b[0;34m\u001b[0m\u001b[0m\n\u001b[1;32m     91\u001b[0m             \u001b[0m_f\u001b[0m\u001b[0;34m.\u001b[0m\u001b[0mclose\u001b[0m\u001b[0;34m(\u001b[0m\u001b[0;34m)\u001b[0m\u001b[0;34m\u001b[0m\u001b[0;34m\u001b[0m\u001b[0m\n",
      "\u001b[0;32m~/anaconda3/envs/idp/lib/python3.6/gzip.py\u001b[0m in \u001b[0;36mclose\u001b[0;34m(self)\u001b[0m\n\u001b[1;32m    317\u001b[0m             \u001b[0;32mif\u001b[0m \u001b[0mmyfileobj\u001b[0m\u001b[0;34m:\u001b[0m\u001b[0;34m\u001b[0m\u001b[0;34m\u001b[0m\u001b[0m\n\u001b[1;32m    318\u001b[0m                 \u001b[0mself\u001b[0m\u001b[0;34m.\u001b[0m\u001b[0mmyfileobj\u001b[0m \u001b[0;34m=\u001b[0m \u001b[0;32mNone\u001b[0m\u001b[0;34m\u001b[0m\u001b[0;34m\u001b[0m\u001b[0m\n\u001b[0;32m--> 319\u001b[0;31m                 \u001b[0mmyfileobj\u001b[0m\u001b[0;34m.\u001b[0m\u001b[0mclose\u001b[0m\u001b[0;34m(\u001b[0m\u001b[0;34m)\u001b[0m\u001b[0;34m\u001b[0m\u001b[0;34m\u001b[0m\u001b[0m\n\u001b[0m\u001b[1;32m    320\u001b[0m \u001b[0;34m\u001b[0m\u001b[0m\n\u001b[1;32m    321\u001b[0m     \u001b[0;32mdef\u001b[0m \u001b[0mflush\u001b[0m\u001b[0;34m(\u001b[0m\u001b[0mself\u001b[0m\u001b[0;34m,\u001b[0m\u001b[0mzlib_mode\u001b[0m\u001b[0;34m=\u001b[0m\u001b[0mzlib\u001b[0m\u001b[0;34m.\u001b[0m\u001b[0mZ_SYNC_FLUSH\u001b[0m\u001b[0;34m)\u001b[0m\u001b[0;34m:\u001b[0m\u001b[0;34m\u001b[0m\u001b[0;34m\u001b[0m\u001b[0m\n",
      "\u001b[0;31mKeyboardInterrupt\u001b[0m: "
     ]
    }
   ],
   "source": [
    "\"\"\"\n",
    "-----------------------------------------------------------------------------------------\n",
    "roi_to_pandas.py\n",
    "-----------------------------------------------------------------------------------------\n",
    "Goal of the script:\n",
    "Create pandas dataframe from hdf5 files\n",
    "-----------------------------------------------------------------------------------------\n",
    "Input(s):\n",
    "sys.argv[1]: subject name (e.g. 'sub-001')\n",
    "sys.argv[2]: pre-processing steps (fmriprep_dct or fmriprep_dct_pca)\n",
    "sys.argv[3]: registration (e.g. T1w)\n",
    "sys.argv[4]: task\n",
    "sys.argv[5]: sub-task\n",
    "-----------------------------------------------------------------------------------------\n",
    "Output(s):\n",
    "pandas csv file per subject\n",
    "-----------------------------------------------------------------------------------------\n",
    "To run:\n",
    ">> cd to function\n",
    ">> python post_fit/hdf5_to_pandas.py [subject] [preproc] [reg] [task] [sub-task]\n",
    "-----------------------------------------------------------------------------------------\n",
    "Exemple:\n",
    "cd /home/mszinte/projects/PredictEye/mri_analysis/\n",
    "python post_fit/hdf5_to_pandas.py sub-01 fmriprep_dct T1w pRF\n",
    "python post_fit/hdf5_to_pandas.py sub-01 fmriprep_dct T1w pMF sac\n",
    "python post_fit/hdf5_to_pandas.py sub-01 fmriprep_dct T1w pMF sp\n",
    "-----------------------------------------------------------------------------------------\n",
    "Written by Martin Szinte (martin.szinte@gmail.com)\n",
    "-----------------------------------------------------------------------------------------\n",
    "\"\"\"\n",
    "\n",
    "# General imports\n",
    "# ---------------\n",
    "import os, sys, json, glob, ipdb, h5py, scipy.io\n",
    "import numpy as np\n",
    "import pandas as pd\n",
    "opj = os.path.join\n",
    "deb = ipdb.set_trace\n",
    "\n",
    "# MRI imports\n",
    "# -----------\n",
    "import nibabel as nb\n",
    "import cortex\n",
    "\n",
    "# Get inputs\n",
    "# ----------\n",
    "subject = 'sub-01'\n",
    "preproc = 'fmriprep_dct' \n",
    "regist_type = 'T1w'\n",
    "task = 'pMF'\n",
    "sub_task = 'sac'\n",
    "\n",
    "# Define analysis parameters\n",
    "# --------------------------\n",
    "with open('projects/PredictEye/mri_analysis/settings.json') as f:\n",
    "    json_s = f.read()\n",
    "    analysis_info = json.loads(json_s)\n",
    "\n",
    "# Define folders and settings\n",
    "# ---------------------------\n",
    "base_dir = analysis_info['base_dir']\n",
    "rois = analysis_info['rois']\n",
    "rois_mask_dir = \"{}/pp_data/{}/gauss/roi_masks/\".format(base_dir, subject)\n",
    "deriv_dir = \"{}/pp_data/{}/gauss/fit/{}\".format(base_dir, subject,task)\n",
    "h5_dir = \"{}/pp_data/{}/gauss/h5/{}{}\".format(base_dir, subject, task, sub_task)\n",
    "pandas_dir = \"{}/pp_data/{}/gauss/pandas/{}{}\".format(base_dir, subject, task, sub_task)\n",
    "\n",
    "# save dataframe\n",
    "try: os.makedirs(pandas_dir)\n",
    "except: pass\n",
    "\n",
    "\n",
    "rsq_idx, ecc_idx, polar_real_idx, polar_imag_idx , size_idx, \\\n",
    "    amp_idx, baseline_idx, cov_idx, x_idx, y_idx, hemi_idx = 0,1,2,3,4,5,6,7,8,9,10\n",
    "\n",
    "# Create dataframe\n",
    "# ---------------\n",
    "\n",
    "\n",
    "for roi_num, roi in enumerate(rois):\n",
    "\n",
    "    print('creating {} {} {} pandas file'.format(roi, preproc, regist_type))\n",
    "\n",
    "    # load h5 file\n",
    "    h5_file = h5py.File(\"{}/{}_{}_{}.h5\".format(h5_dir, roi, preproc, regist_type),'r')\n",
    "\n",
    "    # load deriv data\n",
    "    deriv_data = h5_file['{}{}/derivatives'.format(task, sub_task)]\n",
    "    \n",
    "    # load time course data\n",
    "    tc_data = h5_file['{}{}/time_course'.format(task, sub_task)]\n",
    "\n",
    "    # load model time course data\n",
    "    tc_model_data = h5_file['{}{}/time_course_model'.format(task, sub_task)]\n",
    "\n",
    "    # load coordinates data\n",
    "    coord_data = h5_file['{}{}/coord'.format(task, sub_task)]\n",
    "\n",
    "    # define dataframe\n",
    "    df_roi = pd.DataFrame(deriv_data,columns = ['rsq','ecc','polar_real','polar_imag','size','amp','baseline','cov','x','y','hemi'])\n",
    "    df_roi['roi']=[roi for x in range(df_roi.shape[0])]\n",
    "    df_roi['subject']=[subject for x in range(df_roi.shape[0])]\n",
    "    df_roi['task']=[task for x in range(df_roi.shape[0])]\n",
    "    df_roi['sub_task']=[sub_task for x in range(df_roi.shape[0])]\n",
    "    df_roi['signal_tc']=pd.Series(data=tc_data)\n",
    "    df_roi['model_tc']=pd.Series(data=tc_model_data)\n",
    "    df_roi['voxel_coords']=pd.Series(data=coord_data)\n",
    "\n",
    "    df_name = '{}/{}_{}_{}.gz'.format(pandas_dir, roi, preproc, regist_type)\n",
    "\n",
    "    df_roi.to_pickle(df_name,compression='gzip')"
   ]
  },
  {
   "cell_type": "code",
   "execution_count": 6,
   "metadata": {},
   "outputs": [],
   "source": [
    "roi = 'V1'\n",
    "df_name = '{}/{}_{}_{}.gz'.format(pandas_dir, roi, preproc, regist_type)"
   ]
  },
  {
   "cell_type": "code",
   "execution_count": 7,
   "metadata": {},
   "outputs": [],
   "source": [
    "a = pd.read_pickle(df_name, compression='gzip')"
   ]
  },
  {
   "cell_type": "code",
   "execution_count": 13,
   "metadata": {},
   "outputs": [
    {
     "output_type": "execute_result",
     "data": {
      "text/plain": [
       "          rsq       ecc  polar_real  polar_imag      size       amp  baseline  \\\n",
       "958  0.710928  1.345944   -0.234968   -0.972003  4.445337  0.000097 -0.760842   \n",
       "\n",
       "     cov         x         y  hemi roi subject task sub_task  \\\n",
       "958  NaN -0.316253 -1.308262   2.0  V1  sub-01  pMF      sac   \n",
       "\n",
       "                                             signal_tc  \\\n",
       "958  (-0.0456151, -0.90241444, -0.7369531, -0.88660...   \n",
       "\n",
       "                                              model_tc       voxel_coords  \n",
       "958  (-0.760842, -0.760842, -0.760842, -0.760842, -...  (39.0, 9.0, 31.0)  "
      ],
      "text/html": "<div>\n<style scoped>\n    .dataframe tbody tr th:only-of-type {\n        vertical-align: middle;\n    }\n\n    .dataframe tbody tr th {\n        vertical-align: top;\n    }\n\n    .dataframe thead th {\n        text-align: right;\n    }\n</style>\n<table border=\"1\" class=\"dataframe\">\n  <thead>\n    <tr style=\"text-align: right;\">\n      <th></th>\n      <th>rsq</th>\n      <th>ecc</th>\n      <th>polar_real</th>\n      <th>polar_imag</th>\n      <th>size</th>\n      <th>amp</th>\n      <th>baseline</th>\n      <th>cov</th>\n      <th>x</th>\n      <th>y</th>\n      <th>hemi</th>\n      <th>roi</th>\n      <th>subject</th>\n      <th>task</th>\n      <th>sub_task</th>\n      <th>signal_tc</th>\n      <th>model_tc</th>\n      <th>voxel_coords</th>\n    </tr>\n  </thead>\n  <tbody>\n    <tr>\n      <th>958</th>\n      <td>0.710928</td>\n      <td>1.345944</td>\n      <td>-0.234968</td>\n      <td>-0.972003</td>\n      <td>4.445337</td>\n      <td>0.000097</td>\n      <td>-0.760842</td>\n      <td>NaN</td>\n      <td>-0.316253</td>\n      <td>-1.308262</td>\n      <td>2.0</td>\n      <td>V1</td>\n      <td>sub-01</td>\n      <td>pMF</td>\n      <td>sac</td>\n      <td>(-0.0456151, -0.90241444, -0.7369531, -0.88660...</td>\n      <td>(-0.760842, -0.760842, -0.760842, -0.760842, -...</td>\n      <td>(39.0, 9.0, 31.0)</td>\n    </tr>\n  </tbody>\n</table>\n</div>"
     },
     "metadata": {},
     "execution_count": 13
    }
   ],
   "source": [
    "a[a.rsq>0.7]"
   ]
  },
  {
   "cell_type": "code",
   "execution_count": null,
   "metadata": {},
   "outputs": [],
   "source": []
  }
 ]
}