{
 "cells": [
  {
   "cell_type": "code",
   "execution_count": 8,
   "id": "3966f024-9ade-4a9d-b117-c43639a55ff8",
   "metadata": {},
   "outputs": [],
   "source": [
    "# Stop warnings\n",
    "# -------------\n",
    "import warnings\n",
    "warnings.filterwarnings(\"ignore\")\n",
    "\n",
    "# General imports\n",
    "# ---------------\n",
    "import os\n",
    "import sys\n",
    "import json\n",
    "import numpy as np\n",
    "import pandas as pd\n",
    "import scipy.stats as stats\n",
    "import ipdb\n",
    "deb = ipdb.set_trace\n",
    "\n",
    "# MRI imports\n",
    "# -----------\n",
    "import nibabel as nb\n",
    "\n",
    "# Functions import\n",
    "# ----------------\n",
    "import importlib.util\n",
    "spec = importlib.util.spec_from_file_location(\"Utils\", \"/home/mszinte/disks/meso_H/projects/PredictEye/mri_analysis/functions/utils.py\") \n",
    "utils = importlib.util.module_from_spec(spec)\n",
    "spec.loader.exec_module(utils)\n",
    "\n",
    "# GLM imports\n",
    "# -----------\n",
    "from nilearn.glm.first_level import FirstLevelModel\n",
    "from nilearn.glm import threshold_stats_img"
   ]
  },
  {
   "cell_type": "code",
   "execution_count": 10,
   "id": "095c6af7-f633-44a0-9e67-5c3421312daa",
   "metadata": {},
   "outputs": [],
   "source": [
    "# Get inputs\n",
    "# ----------\n",
    "base_dir =  '/home/mszinte/disks/meso_S/data/PredictEye'\n",
    "subject = 'sub-02'\n",
    "session = 'ses-02'\n",
    "task = 'SacVELoc'\n",
    "space = 'T1w'\n",
    "run = 'run-1'\n",
    "preproc = 'fmriprep_dct'\n",
    "\n",
    "# Define analysis parameters\n",
    "# --------------------------\n",
    "with open('../settings.json') as f:\n",
    "    json_s = f.read()\n",
    "    analysis_info = json.loads(json_s)"
   ]
  },
  {
   "cell_type": "code",
   "execution_count": 13,
   "id": "003b7b21-c691-4c46-9f54-378f21827716",
   "metadata": {},
   "outputs": [],
   "source": []
  },
  {
   "cell_type": "code",
   "execution_count": null,
   "id": "ed459409-4e59-49a0-b6ed-58eeb5cd4c21",
   "metadata": {},
   "outputs": [],
   "source": []
  }
 ],
 "metadata": {
  "kernelspec": {
   "display_name": "fmri_lab",
   "language": "python",
   "name": "fmri_lab"
  },
  "language_info": {
   "codemirror_mode": {
    "name": "ipython",
    "version": 3
   },
   "file_extension": ".py",
   "mimetype": "text/x-python",
   "name": "python",
   "nbconvert_exporter": "python",
   "pygments_lexer": "ipython3",
   "version": "3.7.3"
  }
 },
 "nbformat": 4,
 "nbformat_minor": 5
}
