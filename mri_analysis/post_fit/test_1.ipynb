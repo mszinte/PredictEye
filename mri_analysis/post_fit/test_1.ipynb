{
 "cells": [
  {
   "cell_type": "markdown",
   "metadata": {},
   "source": [
    "# todo (18/05/2021)\n",
    "* __rsync data of one participant (locEMsexp)__\n",
    "* __basic visualization__\n",
    "* __experimental design__\n",
    "* __try first level_glm__"
   ]
  },
  {
   "cell_type": "markdown",
   "metadata": {},
   "source": [
    "# todo next\n",
    "* try concatened runs instead of average\n",
    "* save the different glmn output as nifti images and look at them in sofwares\n",
    "* put them in pycortex flatmaps and draw areas\n",
    "% GLM of pRF to later delete\n",
    "% GLM of smooth pursuit\n",
    "% comparison smooth pursuit vs saccade\n",
    "% other subject\n",
    "% mni average subjects"
   ]
  },
  {
   "cell_type": "markdown",
   "metadata": {},
   "source": [
    "# questions\n",
    "* is it better to do glm from average runs or concatenated runs ?"
   ]
  },
  {
   "cell_type": "code",
   "execution_count": 1,
   "metadata": {},
   "outputs": [
    {
     "name": "stderr",
     "output_type": "stream",
     "text": [
      "/home/vmorita/anaconda3/envs/idp/lib/python3.7/site-packages/nilearn/datasets/__init__.py:90: FutureWarning: Fetchers from the nilearn.datasets module will be updated in version 0.9 to return python strings instead of bytes and Pandas dataframes instead of Numpy arrays.\n",
      "  \"Numpy arrays.\", FutureWarning)\n"
     ]
    }
   ],
   "source": [
    "# imports\n",
    "import os\n",
    "import numpy as np\n",
    "import pandas as pd\n",
    "from nilearn import image, datasets, plotting, surface\n",
    "from nilearn.glm.first_level import FirstLevelModel\n",
    "from nilearn.glm import threshold_stats_img\n",
    "from nilearn.plotting import plot_design_matrix, plot_stat_map, plot_anat, plot_img\n",
    "import matplotlib.pyplot as plt"
   ]
  },
  {
   "cell_type": "code",
   "execution_count": 2,
   "metadata": {},
   "outputs": [],
   "source": [
    "# inputs\n",
    "# user_login = 'mszinte'\n",
    "user_login = 'vmorita'\n",
    "subject = 'sub-01'\n",
    "session = 'ses-01'\n",
    "task = 'SacLoc'\n",
    "space = 'T1w'\n",
    "run = 'run-1'\n",
    "preproc = 'fmriprep_dct'\n",
    "tr_dur = 1.2\n",
    "cwd = os.getcwd()"
   ]
  },
  {
   "cell_type": "code",
   "execution_count": 4,
   "metadata": {},
   "outputs": [
    {
     "data": {
      "text/plain": [
       "'/home/vmorita/projects/PredictEye/mri_analysis/post_fit'"
      ]
     },
     "execution_count": 4,
     "metadata": {},
     "output_type": "execute_result"
    }
   ],
   "source": [
    "cwd = os.getcwd()\n",
    "cwd"
   ]
  },
  {
   "cell_type": "code",
   "execution_count": null,
   "metadata": {},
   "outputs": [],
   "source": [
    "# rsync func data\n",
    "trans_cmd = 'rsync -avuz --progress'\n",
    "orig_file = '{}@login.mesocentre.univ-amu.fr:/scratch/mszinte/data/PredictEye/pp_data/{}/func'.\\\n",
    "                format(user_login,subject)\n",
    "dest_file = '{}/pp_data/{}/func'.format(cwd,subject)\n",
    "try: os.makedirs(dest_file)\n",
    "except: pass\n",
    "\n",
    "print(\"{cmd} {orig} {dest}\".format(cmd = trans_cmd, orig = orig_file, dest = dest_file))\n",
    "# os.system(\"{cmd} {orig} {dest}\".format(cmd = trans_cmd, orig = orig_file, dest = dest_file))"
   ]
  },
  {
   "cell_type": "code",
   "execution_count": null,
   "metadata": {},
   "outputs": [],
   "source": [
    "# rsync anat data\n",
    "trans_cmd = 'rsync -avuz --progress'\n",
    "orig_file = '{user_login}@login.mesocentre.univ-amu.fr:/scratch/mszinte/data/PredictEye/deriv_data/fmriprep/fmriprep/{subject}/anat/{subject}_desc-preproc_T1w.nii.gz'.\\\n",
    "                format(user_login=user_login, subject=subject)\n",
    "dest_file = '{}/pp_data/{}/anat'.format(cwd,subject)\n",
    "try: os.makedirs(dest_file)\n",
    "except: pass\n",
    "\n",
    "print(\"{cmd} {orig} {dest}\".format(cmd = trans_cmd, orig = orig_file, dest = dest_file))\n",
    "# os.system(\"{cmd} {orig} {dest}\".format(cmd = trans_cmd, orig = orig_file, dest = dest_file))"
   ]
  },
  {
   "cell_type": "code",
   "execution_count": null,
   "metadata": {},
   "outputs": [],
   "source": [
    "# rsync events data\n",
    "trans_cmd = 'rsync -avuz --progress'\n",
    "orig_file = '{user_login}@login.mesocentre.univ-amu.fr:/scratch/mszinte/data/PredictEye/bids_data/{subject}/{session}/func/{subject}_{session}_task-{task}_run-*_events.tsv'.\\\n",
    "                format(user_login=user_login, subject=subject, session=session, task=task)\n",
    "dest_file = '{}/pp_data/{}/events'.format(cwd,subject)\n",
    "try: os.makedirs(dest_file)\n",
    "except: pass\n",
    "\n",
    "print(\"{cmd} {orig} {dest}\".format(cmd = trans_cmd, orig = orig_file, dest = dest_file))\n",
    "# os.system(\"{cmd} {orig} {dest}\".format(cmd = trans_cmd, orig = orig_file, dest = dest_file))"
   ]
  },
  {
   "cell_type": "code",
   "execution_count": null,
   "metadata": {},
   "outputs": [],
   "source": [
    "# rsync surf data\n",
    "trans_cmd = 'rsync -avuz --progress'\n",
    "orig_file = '{user_login}@login.mesocentre.univ-amu.fr:/scratch/mszinte/data/PredictEye/deriv_data/fmriprep/freesurfer/{subject}/surf/'.\\\n",
    "                format(user_login=user_login, subject=subject)\n",
    "dest_file = '{}/pp_data/{}/surf'.format(cwd,subject)\n",
    "try: os.makedirs(dest_file)\n",
    "except: pass\n",
    "\n",
    "print(\"{cmd} {orig} {dest}\".format(cmd = trans_cmd, orig = orig_file, dest = dest_file))\n",
    "# os.system(\"{cmd} {orig} {dest}\".format(cmd = trans_cmd, orig = orig_file, dest = dest_file))"
   ]
  },
  {
   "cell_type": "code",
   "execution_count": null,
   "metadata": {},
   "outputs": [],
   "source": [
    "# plot t1w/t2w subject anat\n",
    "anat_img = \"pp_data/{subject}/anat/{subject}_desc-preproc_T1w.nii.gz\".\\\n",
    "                format(subject=subject)\n",
    "\n",
    "plotting.plot_anat(anat_img = anat_img)"
   ]
  },
  {
   "cell_type": "code",
   "execution_count": 3,
   "metadata": {},
   "outputs": [
    {
     "ename": "ValueError",
     "evalue": "File not found: 'pp_data/sub-01/func/fmriprep_dct/sub-01_task-SacLoc_space-T1w_run-1_fmriprep_dct.nii.gz'",
     "output_type": "error",
     "traceback": [
      "\u001b[0;31m---------------------------------------------------------------------------\u001b[0m",
      "\u001b[0;31mValueError\u001b[0m                                Traceback (most recent call last)",
      "\u001b[0;32m<ipython-input-3-0711acbf3691>\u001b[0m in \u001b[0;36m<module>\u001b[0;34m\u001b[0m\n\u001b[1;32m      4\u001b[0m \u001b[0mfile_img_avg\u001b[0m \u001b[0;34m=\u001b[0m \u001b[0;34m\"pp_data/{subject}/func/{subject}_task-{task}_space-{space}_{preproc}_avg.nii.gz\"\u001b[0m\u001b[0;34m.\u001b[0m\u001b[0;31m\\\u001b[0m\u001b[0;34m\u001b[0m\u001b[0;34m\u001b[0m\u001b[0m\n\u001b[1;32m      5\u001b[0m                 \u001b[0mformat\u001b[0m\u001b[0;34m(\u001b[0m\u001b[0msubject\u001b[0m\u001b[0;34m=\u001b[0m\u001b[0msubject\u001b[0m\u001b[0;34m,\u001b[0m\u001b[0mtask\u001b[0m\u001b[0;34m=\u001b[0m\u001b[0mtask\u001b[0m\u001b[0;34m,\u001b[0m\u001b[0mspace\u001b[0m\u001b[0;34m=\u001b[0m\u001b[0mspace\u001b[0m\u001b[0;34m,\u001b[0m\u001b[0mpreproc\u001b[0m\u001b[0;34m=\u001b[0m\u001b[0mpreproc\u001b[0m\u001b[0;34m)\u001b[0m\u001b[0;34m\u001b[0m\u001b[0;34m\u001b[0m\u001b[0m\n\u001b[0;32m----> 6\u001b[0;31m \u001b[0mplotting\u001b[0m\u001b[0;34m.\u001b[0m\u001b[0mplot_epi\u001b[0m\u001b[0;34m(\u001b[0m\u001b[0mepi_img\u001b[0m \u001b[0;34m=\u001b[0m \u001b[0mimage\u001b[0m\u001b[0;34m.\u001b[0m\u001b[0mindex_img\u001b[0m\u001b[0;34m(\u001b[0m\u001b[0mfile_img\u001b[0m\u001b[0;34m,\u001b[0m \u001b[0;36m0\u001b[0m\u001b[0;34m)\u001b[0m\u001b[0;34m,\u001b[0m \u001b[0mcmap\u001b[0m\u001b[0;34m=\u001b[0m\u001b[0;34m'viridis'\u001b[0m\u001b[0;34m,\u001b[0m \u001b[0mblack_bg\u001b[0m\u001b[0;34m=\u001b[0m\u001b[0;32mFalse\u001b[0m\u001b[0;34m)\u001b[0m\u001b[0;34m\u001b[0m\u001b[0;34m\u001b[0m\u001b[0m\n\u001b[0m",
      "\u001b[0;32m~/anaconda3/envs/idp/lib/python3.7/site-packages/nilearn/image/image.py\u001b[0m in \u001b[0;36mindex_img\u001b[0;34m(imgs, index)\u001b[0m\n\u001b[1;32m    670\u001b[0m \u001b[0;34m\u001b[0m\u001b[0m\n\u001b[1;32m    671\u001b[0m     \"\"\"\n\u001b[0;32m--> 672\u001b[0;31m     \u001b[0mimgs\u001b[0m \u001b[0;34m=\u001b[0m \u001b[0mcheck_niimg_4d\u001b[0m\u001b[0;34m(\u001b[0m\u001b[0mimgs\u001b[0m\u001b[0;34m)\u001b[0m\u001b[0;34m\u001b[0m\u001b[0;34m\u001b[0m\u001b[0m\n\u001b[0m\u001b[1;32m    673\u001b[0m     \u001b[0;31m# duck-type for pandas arrays, and select the 'values' attr\u001b[0m\u001b[0;34m\u001b[0m\u001b[0;34m\u001b[0m\u001b[0;34m\u001b[0m\u001b[0m\n\u001b[1;32m    674\u001b[0m     \u001b[0;32mif\u001b[0m \u001b[0mhasattr\u001b[0m\u001b[0;34m(\u001b[0m\u001b[0mindex\u001b[0m\u001b[0;34m,\u001b[0m \u001b[0;34m'values'\u001b[0m\u001b[0;34m)\u001b[0m \u001b[0;32mand\u001b[0m \u001b[0mhasattr\u001b[0m\u001b[0;34m(\u001b[0m\u001b[0mindex\u001b[0m\u001b[0;34m,\u001b[0m \u001b[0;34m'iloc'\u001b[0m\u001b[0;34m)\u001b[0m\u001b[0;34m:\u001b[0m\u001b[0;34m\u001b[0m\u001b[0;34m\u001b[0m\u001b[0m\n",
      "\u001b[0;32m~/anaconda3/envs/idp/lib/python3.7/site-packages/nilearn/_utils/niimg_conversions.py\u001b[0m in \u001b[0;36mcheck_niimg_4d\u001b[0;34m(niimg, return_iterator, dtype)\u001b[0m\n\u001b[1;32m    378\u001b[0m     \"\"\"\n\u001b[1;32m    379\u001b[0m     return check_niimg(niimg, ensure_ndim=4, return_iterator=return_iterator,\n\u001b[0;32m--> 380\u001b[0;31m                        dtype=dtype)\n\u001b[0m\u001b[1;32m    381\u001b[0m \u001b[0;34m\u001b[0m\u001b[0m\n\u001b[1;32m    382\u001b[0m \u001b[0;34m\u001b[0m\u001b[0m\n",
      "\u001b[0;32m~/anaconda3/envs/idp/lib/python3.7/site-packages/nilearn/_utils/niimg_conversions.py\u001b[0m in \u001b[0;36mcheck_niimg\u001b[0;34m(niimg, ensure_ndim, atleast_4d, dtype, return_iterator, wildcards)\u001b[0m\n\u001b[1;32m    269\u001b[0m                 \u001b[0;32mraise\u001b[0m \u001b[0mValueError\u001b[0m\u001b[0;34m(\u001b[0m\u001b[0mmessage\u001b[0m\u001b[0;34m)\u001b[0m\u001b[0;34m\u001b[0m\u001b[0;34m\u001b[0m\u001b[0m\n\u001b[1;32m    270\u001b[0m             \u001b[0;32melse\u001b[0m\u001b[0;34m:\u001b[0m\u001b[0;34m\u001b[0m\u001b[0;34m\u001b[0m\u001b[0m\n\u001b[0;32m--> 271\u001b[0;31m                 \u001b[0;32mraise\u001b[0m \u001b[0mValueError\u001b[0m\u001b[0;34m(\u001b[0m\u001b[0;34m\"File not found: '%s'\"\u001b[0m \u001b[0;34m%\u001b[0m \u001b[0mniimg\u001b[0m\u001b[0;34m)\u001b[0m\u001b[0;34m\u001b[0m\u001b[0;34m\u001b[0m\u001b[0m\n\u001b[0m\u001b[1;32m    272\u001b[0m         \u001b[0;32melif\u001b[0m \u001b[0;32mnot\u001b[0m \u001b[0mos\u001b[0m\u001b[0;34m.\u001b[0m\u001b[0mpath\u001b[0m\u001b[0;34m.\u001b[0m\u001b[0mexists\u001b[0m\u001b[0;34m(\u001b[0m\u001b[0mniimg\u001b[0m\u001b[0;34m)\u001b[0m\u001b[0;34m:\u001b[0m\u001b[0;34m\u001b[0m\u001b[0;34m\u001b[0m\u001b[0m\n\u001b[1;32m    273\u001b[0m             \u001b[0;32mraise\u001b[0m \u001b[0mValueError\u001b[0m\u001b[0;34m(\u001b[0m\u001b[0;34m\"File not found: '%s'\"\u001b[0m \u001b[0;34m%\u001b[0m \u001b[0mniimg\u001b[0m\u001b[0;34m)\u001b[0m\u001b[0;34m\u001b[0m\u001b[0;34m\u001b[0m\u001b[0m\n",
      "\u001b[0;31mValueError\u001b[0m: File not found: 'pp_data/sub-01/func/fmriprep_dct/sub-01_task-SacLoc_space-T1w_run-1_fmriprep_dct.nii.gz'"
     ]
    }
   ],
   "source": [
    "# plot epi tr = 1\n",
    "file_img     = \"pp_data/{subject}/func/fmriprep_dct/{subject}_task-{task}_space-{space}_{run}_{preproc}.nii.gz\".\\\n",
    "                format(subject=subject,task=task,space=space,run=run,preproc=preproc)\n",
    "file_img_avg = \"pp_data/{subject}/func/{subject}_task-{task}_space-{space}_{preproc}_avg.nii.gz\".\\\n",
    "                format(subject=subject,task=task,space=space,preproc=preproc)\n",
    "plotting.plot_epi(epi_img = image.index_img(file_img, 0), cmap='viridis', black_bg=False)"
   ]
  },
  {
   "cell_type": "code",
   "execution_count": null,
   "metadata": {},
   "outputs": [],
   "source": [
    "# create design table\n",
    "design_file_run1 = '{cwd}/pp_data/{subject}/events/{subject}_{session}_task-{task}_{run}_events.tsv'.\\\n",
    "                        format(cwd=cwd, subject=subject, session=session, task=task, run='run-01')\n",
    "events_run1 = pd.read_table(design_file_run1)\n",
    "\n",
    "design_file_run2 = '{cwd}/pp_data/{subject}/events/{subject}_{session}_task-{task}_{run}_events.tsv'.\\\n",
    "                        format(cwd=cwd, subject=subject, session=session, task=task, run='run-02')\n",
    "events_run2 = pd.read_table(design_file_run2)"
   ]
  },
  {
   "cell_type": "code",
   "execution_count": null,
   "metadata": {},
   "outputs": [],
   "source": [
    "events_run1_glm = events_run1[['onset','duration','trial_type']].copy(deep=True)\n",
    "events_run1_glm.replace({'trial_type': {3: 'Fix', 1: 'Sac', 2: 'Pur'}},inplace=True)\n",
    "events_run1_glm_groups = events_run1_glm.groupby((events_run1_glm.trial_type!=events_run1_glm.trial_type.shift()).cumsum())\n",
    "\n",
    "events_run1_glm = pd.DataFrame([], columns=['onset', 'duration', 'trial_type'])\n",
    "for idx, group in enumerate(events_run1_glm_groups):\n",
    "    onset = group[1]['onset'][group[1].index[0]]\n",
    "    dur = np.round(sum(group[1]['duration']*10))/10\n",
    "    type = group[1]['trial_type'][group[1].index[0]]\n",
    "\n",
    "    events_run1_glm = events_run1_glm.append(pd.Series([onset,dur,type],index =['onset', 'duration', 'trial_type']), ignore_index=True)\n",
    "\n",
    "events_run1_glm['onset'] = np.floor((events_run1_glm['onset']-events_run1_glm['onset'][0])*10)/10\n",
    "events_run1_glm"
   ]
  },
  {
   "cell_type": "code",
   "execution_count": null,
   "metadata": {},
   "outputs": [],
   "source": [
    "onset = [    0*tr_dur,\n",
    "             16*tr_dur,\n",
    "             (16+32)*tr_dur,\n",
    "             (16+32+16)*tr_dur,\n",
    "             (16+32+16+32)*tr_dur,\n",
    "             (16+32+16+32+16)*tr_dur,\n",
    "             (16+32+16+32+16+32)*tr_dur,\n",
    "             (16+32+16+32+16+32+16)*tr_dur,\n",
    "             (16+32+16+32+16+32+16+32)*tr_dur]\n",
    "\n",
    "duration = [ 16*tr_dur,\n",
    "             32*tr_dur,\n",
    "             16*tr_dur,\n",
    "             32*tr_dur,\n",
    "             16*tr_dur,\n",
    "             32*tr_dur,\n",
    "             16*tr_dur,\n",
    "             32*tr_dur,\n",
    "             16*tr_dur,\n",
    "             ]\n",
    "\n",
    "trial_type = ['Fix','Sac','Fix','Sac','Fix','Sac','Fix','Sac','Fix']\n",
    "\n",
    "data = {'onset':onset,\n",
    "        'duration':duration,\n",
    "        'trial_type':trial_type}\n",
    "\n",
    "events_run1_glm = pd.DataFrame(data)\n",
    "events_run1_glm"
   ]
  },
  {
   "cell_type": "code",
   "execution_count": null,
   "metadata": {},
   "outputs": [],
   "source": [
    "# first level GLM\n",
    "fmri_glm = FirstLevelModel(t_r=tr_dur,\n",
    "                           noise_model='ar1',\n",
    "                           standardize=False,\n",
    "                           hrf_model='spm',\n",
    "                           drift_model='cosine',\n",
    "                           mask_img = False,\n",
    "                           high_pass=.01)\n",
    "\n",
    "fmri_img = file_img\n",
    "fmri_glm = fmri_glm.fit(fmri_img, events_run1_glm)"
   ]
  },
  {
   "cell_type": "code",
   "execution_count": null,
   "metadata": {},
   "outputs": [],
   "source": [
    "design_matrix = fmri_glm.design_matrices_[0]\n",
    "plot_design_matrix(design_matrix)\n",
    "plt.show()"
   ]
  },
  {
   "cell_type": "code",
   "execution_count": null,
   "metadata": {},
   "outputs": [],
   "source": [
    "plt.plot(design_matrix['Sac'])\n",
    "plt.xlabel('Time (seconds)')\n",
    "plt.title('Saccade periods')\n",
    "plt.show()"
   ]
  },
  {
   "cell_type": "code",
   "execution_count": null,
   "metadata": {},
   "outputs": [],
   "source": [
    "plt.plot(design_matrix['Fix'])\n",
    "plt.xlabel('Time (seconds)')\n",
    "plt.title('Fixation periods')\n",
    "plt.show()"
   ]
  },
  {
   "cell_type": "code",
   "execution_count": null,
   "metadata": {},
   "outputs": [],
   "source": [
    "conditions = { 'Fix': np.array([1., 0., 0., 0., 0., 0., 0.]),\n",
    "               'Sac': np.array([0., 1., 0., 0., 0., 0., 0.])}\n",
    "\n",
    "sac_minus_fix = conditions['Sac'] - conditions['Fix']\n",
    "plotting.plot_contrast_matrix(sac_minus_fix, design_matrix=design_matrix)"
   ]
  },
  {
   "cell_type": "code",
   "execution_count": null,
   "metadata": {},
   "outputs": [],
   "source": [
    "eff_map = fmri_glm.compute_contrast(sac_minus_fix,\n",
    "                                    output_type='effect_size')"
   ]
  },
  {
   "cell_type": "code",
   "execution_count": null,
   "metadata": {},
   "outputs": [],
   "source": [
    "z_map = fmri_glm.compute_contrast(sac_minus_fix,\n",
    "                                  output_type='z_score')"
   ]
  },
  {
   "cell_type": "code",
   "execution_count": null,
   "metadata": {},
   "outputs": [],
   "source": [
    "# save z_map TO-DO\n",
    "file_zmap     = \"pp_data/{subject}/func/fmriprep_dct/{subject}_task-{task}_space-{space}_{run}_{preproc}_zmap.nii.gz\".\\\n",
    "                format(subject=subject,task=task,space=space,run=run,preproc=preproc)\n",
    "file_zmap_avg = \"pp_data/{subject}/func/{subject}_task-{task}_space-{space}_{preproc}_avg_zmap.nii.gz\".\\\n",
    "                format(subject=subject,task=task,space=space,preproc=preproc)\n"
   ]
  },
  {
   "cell_type": "code",
   "execution_count": null,
   "metadata": {},
   "outputs": [],
   "source": [
    "# plot_stat_map(z_map, bg_img=anat_img, threshold=3.0,\n",
    "#               display_mode='z', cut_coords=3, black_bg=True,\n",
    "#               title='Active minus Rest (Z>3)')\n",
    "# plt.show()\n",
    "\n",
    "# interactive plot\n",
    "plotting.view_img(z_map, bg_img=anat_img, threshold=3, vmax=12, cut_coords=[-42, -16, 52], title=\"Active minus Rest (Z>3)\") "
   ]
  },
  {
   "cell_type": "code",
   "execution_count": null,
   "metadata": {},
   "outputs": [],
   "source": [
    "# https://nilearn.github.io/auto_examples/01_plotting/plot_3d_map_to_surface_projection.html#sphx-glr-auto-examples-01-plotting-plot-3d-map-to-surface-projection-py\n",
    "surf = {\n",
    "    'pial_left': '{}/pp_data/{}/surf/lh.pial'.format(cwd,subject),\n",
    "    'pial_right': '{}/pp_data/{}/surf/rh.pial'.format(cwd,subject),\n",
    "    'infl_left': '{}/pp_data/{}/surf/lh.inflated'.format(cwd,subject),\n",
    "    'infl_right': '{}/pp_data/{}/surf/rh.inflated'.format(cwd,subject),\n",
    "    'sulc_left': '{}/pp_data/{}/surf/lh.sulc'.format(cwd,subject),\n",
    "    'sulc_right': '{}/pp_data/{}/surf/rh.sulc'.format(cwd,subject)\n",
    "}\n",
    "\n",
    "texture = surface.vol_to_surf(z_map, surf['pial_right'])\n",
    "plotting.plot_surf_stat_map(surf['infl_right'], texture, hemi='right',\n",
    "                            title='Surface right hemisphere', colorbar=True,\n",
    "                            threshold=1., bg_map=surf['sulc_right'])\n",
    "\n",
    "# plotting.view_img_on_surf(z_map, surf_mesh=surf, threshold='90%')"
   ]
  },
  {
   "cell_type": "code",
   "execution_count": null,
   "metadata": {},
   "outputs": [],
   "source": [
    "_, threshold = threshold_stats_img(z_map, alpha=.001, height_control='fpr')\n",
    "print('Uncorrected p<0.001 threshold: %.3f' % threshold)\n",
    "# plot_stat_map(z_map, bg_img=anat_img, threshold=threshold,\n",
    "#               display_mode='z', cut_coords=3, black_bg=True,\n",
    "#               title='Active minus Rest (p<0.001)')\n",
    "# plt.show()\n",
    "\n",
    "# interactive plot\n",
    "plotting.view_img(z_map, bg_img=anat_img, threshold=threshold, vmax=12, cut_coords=[-42, -16, 52], title=\"Active minus Rest (p<0.001)\") \n"
   ]
  },
  {
   "cell_type": "code",
   "execution_count": null,
   "metadata": {},
   "outputs": [],
   "source": [
    "img_map, threshold = threshold_stats_img(\n",
    "    z_map, alpha=.05, height_control='bonferroni')\n",
    "print('Bonferroni-corrected, p<0.05 threshold: %.3f' % threshold)\n",
    "# plot_stat_map(z_map, bg_img=anat_img, threshold=threshold,\n",
    "#               display_mode='z', cut_coords=3, black_bg=True,\n",
    "#               title='Active minus Rest (p<0.05, corrected)')\n",
    "# plt.show()\n",
    "\n",
    "plotting.view_img(z_map, bg_img=anat_img, threshold=threshold, vmax=12, cut_coords=[-42, -16, 52], title=\"Active minus Rest (p<0.05, corrected)\") \n"
   ]
  },
  {
   "cell_type": "code",
   "execution_count": null,
   "metadata": {},
   "outputs": [],
   "source": [
    "_, threshold = threshold_stats_img(z_map, alpha=.05, height_control='fdr')\n",
    "print('False Discovery rate = 0.05 threshold: %.3f' % threshold)\n",
    "plot_stat_map(z_map, bg_img=anat_img, threshold=threshold,\n",
    "              display_mode='z', cut_coords=3, black_bg=True,\n",
    "              title='Active minus Rest (fdr=0.05)')\n",
    "plt.show()"
   ]
  },
  {
   "cell_type": "code",
   "execution_count": null,
   "metadata": {},
   "outputs": [],
   "source": [
    "clean_map, threshold = threshold_stats_img(\n",
    "    z_map, alpha=.05, height_control='fdr', cluster_threshold=10)\n",
    "plot_stat_map(clean_map, bg_img=anat_img, threshold=threshold,\n",
    "              display_mode='z', cut_coords=3, black_bg=True,\n",
    "              title='Active minus Rest (fdr=0.05), clusters > 10 voxels')\n",
    "plt.show()"
   ]
  },
  {
   "cell_type": "code",
   "execution_count": null,
   "metadata": {},
   "outputs": [],
   "source": []
  }
 ],
 "metadata": {
  "kernelspec": {
   "display_name": "Python 3",
   "language": "python",
   "name": "python3"
  },
  "language_info": {
   "codemirror_mode": {
    "name": "ipython",
    "version": 3
   },
   "file_extension": ".py",
   "mimetype": "text/x-python",
   "name": "python",
   "nbconvert_exporter": "python",
   "pygments_lexer": "ipython3",
   "version": "3.7.7"
  }
 },
 "nbformat": 4,
 "nbformat_minor": 4
}
